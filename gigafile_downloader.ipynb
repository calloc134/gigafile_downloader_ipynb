{
  "nbformat": 4,
  "nbformat_minor": 0,
  "metadata": {
    "colab": {
      "provenance": []
    },
    "kernelspec": {
      "name": "python3",
      "display_name": "Python 3"
    },
    "language_info": {
      "name": "python"
    }
  },
  "cells": [
    {
      "cell_type": "markdown",
      "source": [
        "# gigafile便ダウンローダ\n",
        "\n",
        "このダウンローダを利用すると、自身のGoogle Driveの`gigafile_download_dir`以下にファイルが保存されます。"
      ],
      "metadata": {
        "id": "olqY2FoT-3r9"
      }
    },
    {
      "cell_type": "code",
      "source": [
        "#@title 下準備\n",
        "#@markdown 最初に実行してください。\n",
        "\n",
        "# googleドライブをマウント\n",
        "from google.colab import drive\n",
        "drive.mount('/content/drive')\n",
        "\n",
        "# ダウンロード先ディレクトリの作成\n",
        "import os\n",
        "if not os.path.exists(\"/content/drive/MyDrive/gigafile_download_dir\"):\n",
        "  os.makedirs(\"/content/drive/MyDrive/gigafile_download_dir\")\n",
        "\n",
        "# 依存関係のインストール\n",
        "!pip install gigafile"
      ],
      "metadata": {
        "id": "vDXIDEOq6QXo",
        "cellView": "form"
      },
      "execution_count": null,
      "outputs": []
    },
    {
      "cell_type": "code",
      "source": [
        "#@title ファイルのダウンロード\n",
        "#@markdown URLを記載してセルを実行してください。\n",
        "url = \"\"#@param {type: \"string\"}\n",
        "\n",
        "!cd \"/content/drive/MyDrive/gigafile_download_dir/\" && gfile download \"$url\" -n 16"
      ],
      "metadata": {
        "id": "Z6FegZ0D9zSe",
        "cellView": "form"
      },
      "execution_count": null,
      "outputs": []
    }
  ]
}